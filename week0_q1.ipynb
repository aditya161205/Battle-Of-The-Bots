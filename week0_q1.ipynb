{
  "nbformat": 4,
  "nbformat_minor": 0,
  "metadata": {
    "colab": {
      "provenance": [],
      "authorship_tag": "ABX9TyM8LbSZFoZGeEvlq8R6t5C7",
      "include_colab_link": true
    },
    "kernelspec": {
      "name": "python3",
      "display_name": "Python 3"
    },
    "language_info": {
      "name": "python"
    }
  },
  "cells": [
    {
      "cell_type": "markdown",
      "metadata": {
        "id": "view-in-github",
        "colab_type": "text"
      },
      "source": [
        "<a href=\"https://colab.research.google.com/github/aditya161205/Battle-Of-The-Bots/blob/main/week0_q1.ipynb\" target=\"_parent\"><img src=\"https://colab.research.google.com/assets/colab-badge.svg\" alt=\"Open In Colab\"/></a>"
      ]
    },
    {
      "cell_type": "code",
      "execution_count": 21,
      "metadata": {
        "id": "Js-1rCtPs2pU"
      },
      "outputs": [],
      "source": [
        "import torch\n",
        "import torch.nn as nn\n",
        "import torch.optim as optim\n",
        "from torchvision import datasets, transforms\n",
        "from torch.utils.data import DataLoader\n",
        "import matplotlib.pyplot as plt\n",
        "import torch.nn.functional as F"
      ]
    },
    {
      "cell_type": "code",
      "source": [
        "\n",
        "device = torch.device(\"cuda\" if torch.cuda.is_available() else \"cpu\")\n",
        "print(f\"Using device: {device}\")"
      ],
      "metadata": {
        "colab": {
          "base_uri": "https://localhost:8080/"
        },
        "id": "8BYm4uwGBOWY",
        "outputId": "f3149c0f-3d6b-419a-908f-493593c29700"
      },
      "execution_count": 13,
      "outputs": [
        {
          "output_type": "stream",
          "name": "stdout",
          "text": [
            "Using device: cpu\n"
          ]
        }
      ]
    },
    {
      "cell_type": "code",
      "source": [
        "transform=transforms.Compose([transforms.ToTensor(), transforms.Normalize((0.5,),(0.5,))])\n",
        "\n",
        "train_dataset=datasets.MNIST(root='./data',transform=transform,train=True,download=True)\n",
        "test_dataset=datasets.MNIST(root='./data',transform=transform,train=False,download=True)\n",
        "\n",
        "train_loader=DataLoader(train_dataset,batch_size=64,shuffle=True)\n",
        "test_loader=DataLoader(test_dataset,batch_size=1000)\n"
      ],
      "metadata": {
        "id": "1gpo3Z2atEa2"
      },
      "execution_count": 14,
      "outputs": []
    },
    {
      "cell_type": "code",
      "source": [
        "SequentialNet=nn.Sequential(\n",
        "    nn.Flatten(),\n",
        "    nn.Linear(784,128),\n",
        "    nn.ReLU(),\n",
        "    nn.Linear(128,64),\n",
        "    nn.ReLU(),\n",
        "    nn.Linear(64,10)\n",
        "    )"
      ],
      "metadata": {
        "id": "f8jnNZbp_Sh4"
      },
      "execution_count": 15,
      "outputs": []
    },
    {
      "cell_type": "code",
      "source": [
        "def train(model,loader,optimizer,loss_fn,epochs=5):\n",
        "  model.train()\n",
        "\n",
        "  for epoch in range (epochs):\n",
        "    total_loss =0\n",
        "    for x,y in loader:\n",
        "      x, y = x.to(device), y.to(device)\n",
        "      optimizer.zero_grad()\n",
        "      logits=model(x)\n",
        "      loss=loss_fn(logits,y)\n",
        "      loss.backward()\n",
        "      optimizer.step()\n",
        "      total_loss+=loss.item()\n",
        "    print(f\"Epoch {epoch+1}, Loss: {total_loss:.4f}\")\n",
        ""
      ],
      "metadata": {
        "id": "uCTfKcDPARUQ"
      },
      "execution_count": 16,
      "outputs": []
    },
    {
      "cell_type": "code",
      "source": [
        "def test(model,loader):\n",
        "  model.eval()\n",
        "  total=0\n",
        "  correct=0\n",
        "\n",
        "  with torch.no_grad():\n",
        "    for x,y in loader:\n",
        "      x, y = x.to(device), y.to(device)\n",
        "      logits = model(x)\n",
        "      pred=logits.argmax(dim=1)\n",
        "\n",
        "      correct+=(pred==y).sum().item()\n",
        "      total+= y.size(0)\n",
        "    print(f\"Accuracy: {100 * correct / total:.2f}%\")\n"
      ],
      "metadata": {
        "id": "wiTFhpdSCc5T"
      },
      "execution_count": 19,
      "outputs": []
    },
    {
      "cell_type": "code",
      "source": [
        "print(\"\\nTraining SequentialNet\")\n",
        "sequential_model = SequentialNet.to(device)\n",
        "optimizer_seq = optim.Adam(sequential_model.parameters(), lr=0.001)\n",
        "loss_fn = nn.CrossEntropyLoss()\n",
        "\n",
        "\n",
        "train(sequential_model, train_loader, optimizer_seq, loss_fn)\n",
        "test(sequential_model, test_loader)"
      ],
      "metadata": {
        "colab": {
          "base_uri": "https://localhost:8080/"
        },
        "id": "HnN7mERGEzVU",
        "outputId": "99b646d2-66b8-4198-d849-b689542e4ba6"
      },
      "execution_count": 20,
      "outputs": [
        {
          "output_type": "stream",
          "name": "stdout",
          "text": [
            "\n",
            "Training SequentialNet\n",
            "Epoch 1, Loss: 79.5923\n",
            "Epoch 2, Loss: 71.0981\n",
            "Epoch 3, Loss: 63.0726\n",
            "Epoch 4, Loss: 56.2348\n",
            "Epoch 5, Loss: 52.1932\n",
            "Accuracy: 97.35%\n"
          ]
        }
      ]
    },
    {
      "cell_type": "code",
      "source": [
        "# Custom model\n",
        "class ManualNet(nn.Module):\n",
        "    def __init__(self):\n",
        "        super(ManualNet, self).__init__()\n",
        "        self.w1 = nn.Parameter(torch.randn(784, 128) * 0.01)\n",
        "        self.b1 = nn.Parameter(torch.zeros(128))\n",
        "\n",
        "        self.w2 = nn.Parameter(torch.randn(128, 64) * 0.01)\n",
        "        self.b2 = nn.Parameter(torch.zeros(64))\n",
        "\n",
        "        self.w3 = nn.Parameter(torch.randn(64, 10) * 0.01)\n",
        "        self.b3 = nn.Parameter(torch.zeros(10))\n",
        "\n",
        "\n",
        "    def forward(self, x):\n",
        "        x = x.view(-1, 784)\n",
        "        x = x @ self.w1 +self.b1\n",
        "        x = F.relu(x)\n",
        "\n",
        "        x = x @ self.w2 +self.b2\n",
        "        x = F.relu(x)\n",
        "\n",
        "        x = x @ self.w3 +self.b3\n",
        "\n",
        "        return x"
      ],
      "metadata": {
        "id": "gdp6YAcuF25V"
      },
      "execution_count": 25,
      "outputs": []
    },
    {
      "cell_type": "code",
      "source": [
        "print(\"\\nTraining ManualNet\")\n",
        "# TODO: Create a ManualNet object and call it manual_model. Train and test it\n",
        "\n",
        "manual_model=ManualNet()\n",
        "\n",
        "optimizer_seq = optim.Adam(manual_model.parameters(), lr=0.001)\n",
        "loss_fn = nn.CrossEntropyLoss()\n",
        "\n",
        "\n",
        "train(manual_model, train_loader, optimizer_seq, loss_fn)\n",
        "test(manual_model, test_loader)\n"
      ],
      "metadata": {
        "colab": {
          "base_uri": "https://localhost:8080/"
        },
        "id": "9tJD91m-LP4L",
        "outputId": "0b7aa781-6d65-48a7-ed84-864b915e4491"
      },
      "execution_count": 37,
      "outputs": [
        {
          "output_type": "stream",
          "name": "stdout",
          "text": [
            "\n",
            "Training ManualNet\n",
            "Epoch 1, Loss: 532.7297\n",
            "Epoch 2, Loss: 241.8562\n",
            "Epoch 3, Loss: 170.7888\n",
            "Epoch 4, Loss: 134.6412\n",
            "Epoch 5, Loss: 109.5381\n",
            "Accuracy: 96.25%\n"
          ]
        }
      ]
    },
    {
      "cell_type": "code",
      "source": [
        "def visualize(model, loader, n=10):\n",
        "    model.eval()\n",
        "    x, y = next(iter(loader))\n",
        "    x, y = x.to(device), y.to(device)\n",
        "    preds = model(x).argmax(dim=1)\n",
        "\n",
        "    plt.figure(figsize=(20, 4))\n",
        "    for i in range(n):\n",
        "        plt.subplot(1, n, i+1)\n",
        "        plt.imshow(x[i].cpu().squeeze(), cmap='gray')\n",
        "        plt.title(f\"T:{y[i].item()} P:{preds[i].item()}\")\n",
        "        plt.axis('off')\n",
        "    plt.show()\n",
        "\n",
        "# visualize(manual_model, test_loader) # Uncomment this later\n",
        "visualize(sequential_model, test_loader)"
      ],
      "metadata": {
        "colab": {
          "base_uri": "https://localhost:8080/",
          "height": 165
        },
        "id": "8tXhxuL4MCVE",
        "outputId": "748e1a65-6938-4bbf-fa67-392cbfd5ecbe"
      },
      "execution_count": 38,
      "outputs": [
        {
          "output_type": "display_data",
          "data": {
            "text/plain": [
              "<Figure size 2000x400 with 10 Axes>"
            ],
            "image/png": "[encoded data removed]"
          },
          "metadata": {}
        }
      ]
    },
    {
      "cell_type": "code",
      "source": [],
      "metadata": {
        "id": "arUktzqFNaFX"
      },
      "execution_count": null,
      "outputs": []
    }
  ]
}